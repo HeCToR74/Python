{
 "cells": [
  {
   "cell_type": "markdown",
   "metadata": {},
   "source": [
    "## TASK"
   ]
  },
  {
   "cell_type": "markdown",
   "metadata": {},
   "source": [
    "1) Скачать исторические данные с Бинанс :\n",
    "\n",
    "- period:  1 Nov 2020 - 1 Jul 2021\n",
    "- таймфрейм (1Hour and 5 minute)\n",
    "- BTCUSDT  and ETHUSDT"
   ]
  },
  {
   "cell_type": "markdown",
   "metadata": {},
   "source": [
    "2) Стратегия:\n",
    "\tТОЧКА ВХОДА:\n",
    "\t\t- Если индикатор RSI(14) > 50 и ЕМА(20) пересекла ЕМА(50) вверх— покупаем\n",
    "\tТОЧКА ВЫХОДА:\n",
    "\t\t- Если ЕМА(20) пересекла ЕМА(50) вниз — продаём\n"
   ]
  },
  {
   "cell_type": "markdown",
   "metadata": {},
   "source": [
    "3) Параметры стратегии:\n",
    "\tБаланс = 1000 (usdt)\n",
    "\tЛот (1 ордер) = 100 (usdt)\n",
    "\t\n",
    "\tесли  таймфрейм (1Hour) — то за последних 6 месяцев (1 Января — 1 Июля)\n",
    "\tесли  таймфрейм (5 minute) — то за последний месяц (Июнь)\n"
   ]
  },
  {
   "cell_type": "markdown",
   "metadata": {},
   "source": [
    "4) Результат бектеста:\n",
    "\n",
    "- Конечный баланс\n",
    "- Профит (usdt)\n",
    "- % Профита\n",
    "- Максимально прибыльная сделка (usdt)\n",
    "- Максимально убыточная сделка (usdt)\n",
    "- К-во всех сделок\n",
    "- К-во прибыльных сделок\n",
    "- К-во убыточных сделок\n",
    "\n",
    "- Максимальное к-во прибыльных сделок в подряд\n",
    "- Максимальное к-во убыточных сделок в подряд\n",
    "\n",
    "\n",
    "Комментарий:\n",
    "- всего должно получиться 4 ответа (результатов бектеста)\n"
   ]
  },
  {
   "cell_type": "code",
   "execution_count": 1,
   "metadata": {},
   "outputs": [],
   "source": [
    "import requests \n",
    "import json \n",
    "import pandas as pd \n",
    "import numpy as np  \n",
    "from datetime import datetime\n",
    "\n",
    "import warnings\n",
    "warnings.filterwarnings('ignore')"
   ]
  },
  {
   "cell_type": "code",
   "execution_count": 2,
   "metadata": {},
   "outputs": [],
   "source": [
    "def max_len(lst):\n",
    "    ml = 0\n",
    "    curr_lst = []\n",
    "    for x in lst:\n",
    "        if x:\n",
    "            curr_lst.append(x)\n",
    "        else:\n",
    "            if len(curr_lst) > ml:\n",
    "                ml = len(curr_lst)\n",
    "            curr_lst = []\n",
    "    if len(curr_lst) > ml:\n",
    "                ml = len(curr_lst)\n",
    "    return ml"
   ]
  },
  {
   "cell_type": "code",
   "execution_count": 3,
   "metadata": {},
   "outputs": [],
   "source": [
    "def get_klines_iter(symbol, interval, start, end, limit=500):\n",
    "    df = pd.DataFrame()\n",
    "    startDate = end\n",
    "    while startDate > start:\n",
    "        url = 'https://api.binance.com/api/v3/klines?symbol=' + \\\n",
    "            symbol + '&interval=' + interval + '&limit='  + str(limit)\n",
    "        if startDate is not None:\n",
    "            url += '&endTime=' + str(startDate)\n",
    "        \n",
    "        df2 = pd.read_json(url)\n",
    "        df2.columns = ['Opentime', 'Open', 'High', 'Low', 'Close', 'Volume', 'Closetime', 'Quote asset volume', 'Number of trades','Taker by base', 'Taker buy quote', 'Ignore']\n",
    "        df = pd.concat([df2, df], axis=0, ignore_index=True, keys=None)\n",
    "        startDate = df.Opentime[0]   \n",
    "    df.reset_index(drop=True, inplace=True)    \n",
    "    return df[['Opentime', 'Open', 'High', 'Low', 'Close']]"
   ]
  },
  {
   "cell_type": "code",
   "execution_count": 4,
   "metadata": {},
   "outputs": [],
   "source": [
    "def RSI(series, period):\n",
    "    delta = series.diff().dropna()\n",
    "    u = delta * 0\n",
    "    d = u.copy()\n",
    "    u[delta > 0] = delta[delta > 0]\n",
    "    d[delta < 0] = -delta[delta < 0]\n",
    "    u[u.index[period-1]] = np.mean( u[:period] ) # first value is sum of avg gains\n",
    "    u = u.drop(u.index[:(period-1)])\n",
    "    d[d.index[period-1]] = np.mean( d[:period] ) # first value is sum of avg losses\n",
    "    d = d.drop(d.index[:(period-1)])\n",
    "    rs = pd.DataFrame.ewm(u, com=period-1, adjust=False).mean() / \\\n",
    "         pd.DataFrame.ewm(d, com=period-1, adjust=False).mean()\n",
    "    return 100 - 100 / (1 + rs)"
   ]
  },
  {
   "cell_type": "code",
   "execution_count": 5,
   "metadata": {},
   "outputs": [],
   "source": [
    "def general(data, symbol):\n",
    "    data = data.copy()\n",
    "    initial_balance_USDT = 1000\n",
    "    order = 100\n",
    "    balance_USDT = initial_balance_USDT\n",
    "    balance_symbol = 0\n",
    "    data['balance_USDT'] = 0\n",
    "    data['balance_{}'.format(symbol)] = 0\n",
    "    data['profit_deal'] = 0\n",
    "    list_index_up = []\n",
    "    list_index_down = []\n",
    "    for i in data.index.to_list():\n",
    "        current_price = data.loc[i, 'Close']\n",
    "        if balance_USDT > 0 and data.loc[i, 'RSI(14)'] > 50 and data.loc[i, 'EMA(20)'] > data.loc[i, 'EMA(50)']:\n",
    "            val_order = min(order, balance_USDT)\n",
    "            balance_USDT -= val_order\n",
    "            balance_symbol += val_order / current_price\n",
    "            list_index_up.append(i)\n",
    "            for j in list_index_down:\n",
    "                data.loc[j, 'profit_deal'] = (\n",
    "                    (data.loc[j, 'Close'] - data.loc[i, 'EMA(50)']) / data.loc[i, 'EMA(50)']\n",
    "                )\n",
    "                data.loc[j, 'profit'] = order * (1 - data.loc[i, 'Close'] / data.loc[j, 'Close'])\n",
    "            list_index_down = []                \n",
    "        if balance_symbol > 0 and data.loc[i, 'EMA(20)'] < data.loc[i, 'EMA(50)']:\n",
    "            val_order = min(order/current_price, balance_symbol)\n",
    "            balance_symbol -= val_order\n",
    "            balance_USDT += val_order * current_price \n",
    "            list_index_down.append(i)\n",
    "            for j in list_index_up:\n",
    "                data.loc[j, 'profit_deal'] = (\n",
    "                    (data.loc[j, 'Close'] - data.loc[i, 'EMA(50)']) / data.loc[i, 'EMA(50)']\n",
    "                )\n",
    "                data.loc[j, 'profit'] = order * (1 - data.loc[i, 'Close'] / data.loc[j, 'Close'])\n",
    "            list_index_up = []\n",
    "        data.loc[i, 'balance_USDT'] = balance_USDT\n",
    "        data.loc[i, 'balance_{}'.format(symbol)] = balance_symbol\n",
    "    total_balance_USDT = balance_USDT + balance_symbol * current_price\n",
    "    profit = total_balance_USDT - initial_balance_USDT \n",
    "    percentage_profit = profit / initial_balance_USDT * 100\n",
    "    max_profit = data['profit'].max()\n",
    "    min_profit = data['profit'].min()\n",
    "    count_deal = len(data[data['profit_deal']!=0])\n",
    "    count_deal_plus = len(data[data['profit_deal']>0])\n",
    "    count_deal_minus = len(data[data['profit_deal']<0])\n",
    "    max_deal_plus = max_len(data['profit_deal']>0)\n",
    "    max_deal_minus = max_len(data['profit_deal']<0)\n",
    "    print('Конечный баланс:', total_balance_USDT)\n",
    "    print('Профит (usdt):', profit)\n",
    "    print('% Профита:', percentage_profit)\n",
    "    print('Максимально прибыльная сделка (usdt):', max_profit)\n",
    "    print('Максимально убыточная сделка (usdt):', min_profit)\n",
    "    print('К-во всех сделок:', count_deal)\n",
    "    print('К-во прибыльных сделок):', count_deal_plus)\n",
    "    print('К-во убыточных сделок:', count_deal_minus)\n",
    "    print('Максимальное к-во прибыльных сделок в подряд:', max_deal_plus)\n",
    "    print('Максимальное к-во убыточных сделок в подряд:', max_deal_minus)\n",
    "\n",
    "#     return (\n",
    "#         data,\n",
    "#         total_balance_USDT, profit, percentage_profit, max_profit, min_profit, count_deal, count_deal_plus, \n",
    "#         count_deal_minus, max_deal_plus, max_deal_minus\n",
    "#     )"
   ]
  },
  {
   "cell_type": "code",
   "execution_count": 6,
   "metadata": {
    "scrolled": true
   },
   "outputs": [],
   "source": [
    "start = int((datetime(2020, 11, 1) - datetime(1970,1,1)).total_seconds() * 1000)\n",
    "end = int((datetime(2021, 7, 1) - datetime(1970,1,1)).total_seconds() * 1000)\n",
    "BTCUSDT_1H = get_klines_iter('BTCUSDT', '1h', start, end, limit=1000)\n",
    "BTCUSDT_5M = get_klines_iter('BTCUSDT', '5m', start, end, limit=1000)\n",
    "ETHUSDT_1H = get_klines_iter('ETHUSDT', '1h', start, end, limit=1000)\n",
    "ETHUSDT_5M = get_klines_iter('ETHUSDT', '5m', start, end, limit=1000)"
   ]
  },
  {
   "cell_type": "code",
   "execution_count": 7,
   "metadata": {},
   "outputs": [],
   "source": [
    "BTCUSDT_1H['RSI(14)'] =RSI(BTCUSDT_1H.Close, 14)\n",
    "BTCUSDT_5M['RSI(14)'] =RSI(BTCUSDT_5M.Close, 14)\n",
    "ETHUSDT_1H['RSI(14)'] =RSI(ETHUSDT_1H.Close, 14)\n",
    "ETHUSDT_5M['RSI(14)'] =RSI(ETHUSDT_5M.Close, 14)"
   ]
  },
  {
   "cell_type": "code",
   "execution_count": 8,
   "metadata": {},
   "outputs": [],
   "source": [
    "BTCUSDT_1H['EMA(20)'] = pd.Series.ewm(BTCUSDT_1H.Close, span=20).mean()\n",
    "BTCUSDT_1H['EMA(50)'] = pd.Series.ewm(BTCUSDT_1H.Close, span=50).mean()\n",
    "BTCUSDT_5M['EMA(20)'] = pd.Series.ewm(BTCUSDT_5M.Close, span=20).mean()\n",
    "BTCUSDT_5M['EMA(50)'] = pd.Series.ewm(BTCUSDT_5M.Close, span=50).mean()\n",
    "ETHUSDT_1H['EMA(20)'] = pd.Series.ewm(ETHUSDT_1H.Close, span=20).mean()\n",
    "ETHUSDT_1H['EMA(50)'] = pd.Series.ewm(ETHUSDT_1H.Close, span=50).mean()\n",
    "ETHUSDT_5M['EMA(20)'] = pd.Series.ewm(ETHUSDT_5M.Close, span=20).mean()\n",
    "ETHUSDT_5M['EMA(50)'] = pd.Series.ewm(ETHUSDT_5M.Close, span=50).mean()"
   ]
  },
  {
   "cell_type": "code",
   "execution_count": 9,
   "metadata": {},
   "outputs": [],
   "source": [
    "time_1H = int((datetime(2021, 1, 1) - datetime(1970,1,1)).total_seconds() * 1000)\n",
    "time_5M = int((datetime(2021, 6, 1) - datetime(1970,1,1)).total_seconds() * 1000)\n",
    "BTCUSDT_1H_new = BTCUSDT_1H[BTCUSDT_1H['Opentime']>time_1H]\n",
    "BTCUSDT_5M_new = BTCUSDT_5M[BTCUSDT_5M['Opentime']>time_5M]\n",
    "ETHUSDT_1H_new = ETHUSDT_1H[ETHUSDT_1H['Opentime']>time_1H]\n",
    "ETHUSDT_5M_new = ETHUSDT_5M[ETHUSDT_5M['Opentime']>time_5M]"
   ]
  },
  {
   "cell_type": "markdown",
   "metadata": {},
   "source": [
    "## Результат:"
   ]
  },
  {
   "cell_type": "markdown",
   "metadata": {},
   "source": [
    "#### 1. BTCUSDT, 1 Hour"
   ]
  },
  {
   "cell_type": "code",
   "execution_count": 10,
   "metadata": {},
   "outputs": [
    {
     "name": "stdout",
     "output_type": "stream",
     "text": [
      "Конечный баланс: 1381.871808067009\n",
      "Профит (usdt): 381.87180806700894\n",
      "% Профита: 38.187180806700894\n",
      "Максимально прибыльная сделка (usdt): 28.353010591417103\n",
      "Максимально убыточная сделка (usdt): -22.194537338268706\n",
      "К-во всех сделок: 745\n",
      "К-во прибыльных сделок): 350\n",
      "К-во убыточных сделок: 395\n",
      "Максимальное к-во прибыльных сделок в подряд: 17\n",
      "Максимальное к-во убыточных сделок в подряд: 16\n"
     ]
    }
   ],
   "source": [
    "general(BTCUSDT_1H_new, \"BTC\")"
   ]
  },
  {
   "cell_type": "markdown",
   "metadata": {},
   "source": [
    "#### 2. BTCUSDT, 5 minute"
   ]
  },
  {
   "cell_type": "code",
   "execution_count": 11,
   "metadata": {},
   "outputs": [
    {
     "name": "stdout",
     "output_type": "stream",
     "text": [
      "Конечный баланс: 918.2252273180279\n",
      "Профит (usdt): -81.77477268197208\n",
      "% Профита: -8.177477268197208\n",
      "Максимально прибыльная сделка (usdt): 8.306881571836477\n",
      "Максимально убыточная сделка (usdt): -11.01457221788733\n",
      "К-во всех сделок: 1390\n",
      "К-во прибыльных сделок): 711\n",
      "К-во убыточных сделок: 679\n",
      "Максимальное к-во прибыльных сделок в подряд: 11\n",
      "Максимальное к-во убыточных сделок в подряд: 11\n"
     ]
    }
   ],
   "source": [
    "general(BTCUSDT_5M_new, \"BTC\")"
   ]
  },
  {
   "cell_type": "markdown",
   "metadata": {},
   "source": [
    "#### 3. ETHUSDT, 1 Hour"
   ]
  },
  {
   "cell_type": "code",
   "execution_count": 12,
   "metadata": {},
   "outputs": [
    {
     "name": "stdout",
     "output_type": "stream",
     "text": [
      "Конечный баланс: 2700.9749815665696\n",
      "Профит (usdt): 1700.9749815665696\n",
      "% Профита: 170.09749815665697\n",
      "Максимально прибыльная сделка (usdt): 35.695869683332134\n",
      "Максимально убыточная сделка (usdt): -63.23024481968831\n",
      "К-во всех сделок: 929\n",
      "К-во прибыльных сделок): 369\n",
      "К-во убыточных сделок: 560\n",
      "Максимальное к-во прибыльных сделок в подряд: 26\n",
      "Максимальное к-во убыточных сделок в подряд: 24\n"
     ]
    }
   ],
   "source": [
    "general(ETHUSDT_1H_new, \"ETH\")"
   ]
  },
  {
   "cell_type": "markdown",
   "metadata": {},
   "source": [
    "#### 4. ETHUSDT, 5 minute"
   ]
  },
  {
   "cell_type": "code",
   "execution_count": 13,
   "metadata": {},
   "outputs": [
    {
     "name": "stdout",
     "output_type": "stream",
     "text": [
      "Конечный баланс: 879.6616351414092\n",
      "Профит (usdt): -120.33836485859081\n",
      "% Профита: -12.033836485859082\n",
      "Максимально прибыльная сделка (usdt): 9.604270366449686\n",
      "Максимально убыточная сделка (usdt): -8.253321272491455\n",
      "К-во всех сделок: 1300\n",
      "К-во прибыльных сделок): 706\n",
      "К-во убыточных сделок: 594\n",
      "Максимальное к-во прибыльных сделок в подряд: 10\n",
      "Максимальное к-во убыточных сделок в подряд: 10\n"
     ]
    }
   ],
   "source": [
    "general(ETHUSDT_5M_new, \"ETH\")"
   ]
  },
  {
   "cell_type": "code",
   "execution_count": null,
   "metadata": {},
   "outputs": [],
   "source": []
  }
 ],
 "metadata": {
  "kernelspec": {
   "display_name": "Python 3",
   "language": "python",
   "name": "python3"
  },
  "language_info": {
   "codemirror_mode": {
    "name": "ipython",
    "version": 3
   },
   "file_extension": ".py",
   "mimetype": "text/x-python",
   "name": "python",
   "nbconvert_exporter": "python",
   "pygments_lexer": "ipython3",
   "version": "3.7.4"
  }
 },
 "nbformat": 4,
 "nbformat_minor": 2
}
