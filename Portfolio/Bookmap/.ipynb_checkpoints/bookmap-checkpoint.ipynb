{
 "cells": [
  {
   "cell_type": "code",
   "execution_count": 1,
   "metadata": {},
   "outputs": [],
   "source": [
    "import json\n",
    "import pandas as pd\n",
    "import numpy as np\n",
    "from matplotlib import pyplot as plt"
   ]
  },
  {
   "cell_type": "markdown",
   "metadata": {},
   "source": [
    "First we upload data from the jsol-file."
   ]
  },
  {
   "cell_type": "code",
   "execution_count": 2,
   "metadata": {},
   "outputs": [],
   "source": [
    "# read file\n",
    "with open('events.json', 'r') as myfile:\n",
    "    data = myfile.read()\n",
    "\n",
    "# parse file\n",
    "obj = json.loads(data)"
   ]
  },
  {
   "cell_type": "markdown",
   "metadata": {},
   "source": [
    "Then we transform data from the json format into a dataframe (actually a table) and look at the data we got."
   ]
  },
  {
   "cell_type": "code",
   "execution_count": 3,
   "metadata": {},
   "outputs": [
    {
     "data": {
      "text/html": [
       "<div>\n",
       "<style scoped>\n",
       "    .dataframe tbody tr th:only-of-type {\n",
       "        vertical-align: middle;\n",
       "    }\n",
       "\n",
       "    .dataframe tbody tr th {\n",
       "        vertical-align: top;\n",
       "    }\n",
       "\n",
       "    .dataframe thead th {\n",
       "        text-align: right;\n",
       "    }\n",
       "</style>\n",
       "<table border=\"1\" class=\"dataframe\">\n",
       "  <thead>\n",
       "    <tr style=\"text-align: right;\">\n",
       "      <th></th>\n",
       "      <th>t</th>\n",
       "      <th>id</th>\n",
       "      <th>type</th>\n",
       "      <th>cards</th>\n",
       "    </tr>\n",
       "  </thead>\n",
       "  <tbody>\n",
       "    <tr>\n",
       "      <td>0</td>\n",
       "      <td>1580515208723</td>\n",
       "      <td>0</td>\n",
       "      <td>newVisitor</td>\n",
       "      <td>NaN</td>\n",
       "    </tr>\n",
       "    <tr>\n",
       "      <td>1</td>\n",
       "      <td>1580515217157</td>\n",
       "      <td>1</td>\n",
       "      <td>newVisitor</td>\n",
       "      <td>NaN</td>\n",
       "    </tr>\n",
       "    <tr>\n",
       "      <td>2</td>\n",
       "      <td>1580515221870</td>\n",
       "      <td>2</td>\n",
       "      <td>newVisitor</td>\n",
       "      <td>NaN</td>\n",
       "    </tr>\n",
       "    <tr>\n",
       "      <td>3</td>\n",
       "      <td>1580515253128</td>\n",
       "      <td>3</td>\n",
       "      <td>newVisitor</td>\n",
       "      <td>NaN</td>\n",
       "    </tr>\n",
       "    <tr>\n",
       "      <td>4</td>\n",
       "      <td>1580515276372</td>\n",
       "      <td>4</td>\n",
       "      <td>newVisitor</td>\n",
       "      <td>NaN</td>\n",
       "    </tr>\n",
       "    <tr>\n",
       "      <td>...</td>\n",
       "      <td>...</td>\n",
       "      <td>...</td>\n",
       "      <td>...</td>\n",
       "      <td>...</td>\n",
       "    </tr>\n",
       "    <tr>\n",
       "      <td>152607</td>\n",
       "      <td>1583107173791</td>\n",
       "      <td>84739</td>\n",
       "      <td>newVisitor</td>\n",
       "      <td>NaN</td>\n",
       "    </tr>\n",
       "    <tr>\n",
       "      <td>152608</td>\n",
       "      <td>1583107176810</td>\n",
       "      <td>84740</td>\n",
       "      <td>newVisitor</td>\n",
       "      <td>NaN</td>\n",
       "    </tr>\n",
       "    <tr>\n",
       "      <td>152609</td>\n",
       "      <td>1583107178044</td>\n",
       "      <td>84741</td>\n",
       "      <td>newVisitor</td>\n",
       "      <td>NaN</td>\n",
       "    </tr>\n",
       "    <tr>\n",
       "      <td>152610</td>\n",
       "      <td>1583107191582</td>\n",
       "      <td>84740</td>\n",
       "      <td>viewTestimonialsSection</td>\n",
       "      <td>[92, 73, 24, 32, 55, 26, 68, 1, 1, 88]</td>\n",
       "    </tr>\n",
       "    <tr>\n",
       "      <td>152611</td>\n",
       "      <td>1583107207271</td>\n",
       "      <td>84740</td>\n",
       "      <td>pageClosed</td>\n",
       "      <td>NaN</td>\n",
       "    </tr>\n",
       "  </tbody>\n",
       "</table>\n",
       "<p>152612 rows × 4 columns</p>\n",
       "</div>"
      ],
      "text/plain": [
       "                    t     id                     type  \\\n",
       "0       1580515208723      0               newVisitor   \n",
       "1       1580515217157      1               newVisitor   \n",
       "2       1580515221870      2               newVisitor   \n",
       "3       1580515253128      3               newVisitor   \n",
       "4       1580515276372      4               newVisitor   \n",
       "...               ...    ...                      ...   \n",
       "152607  1583107173791  84739               newVisitor   \n",
       "152608  1583107176810  84740               newVisitor   \n",
       "152609  1583107178044  84741               newVisitor   \n",
       "152610  1583107191582  84740  viewTestimonialsSection   \n",
       "152611  1583107207271  84740               pageClosed   \n",
       "\n",
       "                                         cards  \n",
       "0                                          NaN  \n",
       "1                                          NaN  \n",
       "2                                          NaN  \n",
       "3                                          NaN  \n",
       "4                                          NaN  \n",
       "...                                        ...  \n",
       "152607                                     NaN  \n",
       "152608                                     NaN  \n",
       "152609                                     NaN  \n",
       "152610  [92, 73, 24, 32, 55, 26, 68, 1, 1, 88]  \n",
       "152611                                     NaN  \n",
       "\n",
       "[152612 rows x 4 columns]"
      ]
     },
     "execution_count": 3,
     "metadata": {},
     "output_type": "execute_result"
    }
   ],
   "source": [
    "df = pd.DataFrame(obj)\n",
    "df"
   ]
  },
  {
   "cell_type": "markdown",
   "metadata": {},
   "source": [
    "It is easy to notice that the most important column is \"type\". Let's look at the possible values of this column."
   ]
  },
  {
   "cell_type": "code",
   "execution_count": 4,
   "metadata": {},
   "outputs": [
    {
     "data": {
      "text/plain": [
       "array(['newVisitor', 'viewTestimonialsSection', 'clickOnAboutPage',\n",
       "       'pageClosed', 'clickOnPurchaseButton', 'clickOnRegisterButton'],\n",
       "      dtype=object)"
      ]
     },
     "execution_count": 4,
     "metadata": {},
     "output_type": "execute_result"
    }
   ],
   "source": [
    "df[\"type\"].unique()"
   ]
  },
  {
   "cell_type": "markdown",
   "metadata": {},
   "source": [
    "Now let's find out how many users visited our site."
   ]
  },
  {
   "cell_type": "code",
   "execution_count": 5,
   "metadata": {},
   "outputs": [
    {
     "data": {
      "text/plain": [
       "84742"
      ]
     },
     "execution_count": 5,
     "metadata": {},
     "output_type": "execute_result"
    }
   ],
   "source": [
    "len(df[\"id\"].unique())"
   ]
  },
  {
   "cell_type": "markdown",
   "metadata": {},
   "source": [
    "The whole quantity of records is following."
   ]
  },
  {
   "cell_type": "code",
   "execution_count": 6,
   "metadata": {},
   "outputs": [
    {
     "data": {
      "text/plain": [
       "152612"
      ]
     },
     "execution_count": 6,
     "metadata": {},
     "output_type": "execute_result"
    }
   ],
   "source": [
    "len(df)"
   ]
  },
  {
   "cell_type": "markdown",
   "metadata": {},
   "source": [
    "Let's see how many records there are with the type 'newVisitor'."
   ]
  },
  {
   "cell_type": "code",
   "execution_count": 7,
   "metadata": {},
   "outputs": [
    {
     "data": {
      "text/plain": [
       "84742"
      ]
     },
     "execution_count": 7,
     "metadata": {},
     "output_type": "execute_result"
    }
   ],
   "source": [
    "len(df[df[\"type\"]=='newVisitor'])"
   ]
  },
  {
   "cell_type": "markdown",
   "metadata": {},
   "source": [
    "The last result shows that each site user corresponds to record with type 'newVisitor'. We can ignore these records.\n",
    "\n",
    "\n",
    "Now let's look at the other values of column \"type\"."
   ]
  },
  {
   "cell_type": "code",
   "execution_count": 8,
   "metadata": {},
   "outputs": [
    {
     "data": {
      "text/plain": [
       "33935"
      ]
     },
     "execution_count": 8,
     "metadata": {},
     "output_type": "execute_result"
    }
   ],
   "source": [
    "len(df[df[\"type\"]=='viewTestimonialsSection'])"
   ]
  },
  {
   "cell_type": "code",
   "execution_count": 9,
   "metadata": {},
   "outputs": [
    {
     "data": {
      "text/plain": [
       "7367"
      ]
     },
     "execution_count": 9,
     "metadata": {},
     "output_type": "execute_result"
    }
   ],
   "source": [
    "len(df[df[\"type\"]=='clickOnAboutPage'])"
   ]
  },
  {
   "cell_type": "code",
   "execution_count": 10,
   "metadata": {},
   "outputs": [
    {
     "data": {
      "text/plain": [
       "7540"
      ]
     },
     "execution_count": 10,
     "metadata": {},
     "output_type": "execute_result"
    }
   ],
   "source": [
    "len(df[df[\"type\"]=='pageClosed'])"
   ]
  },
  {
   "cell_type": "code",
   "execution_count": 11,
   "metadata": {},
   "outputs": [
    {
     "data": {
      "text/plain": [
       "9481"
      ]
     },
     "execution_count": 11,
     "metadata": {},
     "output_type": "execute_result"
    }
   ],
   "source": [
    "len(df[df[\"type\"]=='clickOnPurchaseButton'])"
   ]
  },
  {
   "cell_type": "code",
   "execution_count": 12,
   "metadata": {},
   "outputs": [
    {
     "data": {
      "text/plain": [
       "9547"
      ]
     },
     "execution_count": 12,
     "metadata": {},
     "output_type": "execute_result"
    }
   ],
   "source": [
    "len(df[df[\"type\"]=='clickOnRegisterButton'])"
   ]
  },
  {
   "cell_type": "code",
   "execution_count": 13,
   "metadata": {},
   "outputs": [
    {
     "data": {
      "text/plain": [
       "True"
      ]
     },
     "execution_count": 13,
     "metadata": {},
     "output_type": "execute_result"
    }
   ],
   "source": [
    "len(df[df[\"type\"]=='viewTestimonialsSection']) == len(df[df[\"type\"]=='clickOnAboutPage']) +\\\n",
    "len(df[df[\"type\"]=='pageClosed']) + len(df[df[\"type\"]=='clickOnPurchaseButton']) + len(df[df[\"type\"]=='clickOnRegisterButton'])"
   ]
  },
  {
   "cell_type": "markdown",
   "metadata": {},
   "source": [
    "We notice that there are as many records of 'viewTestimonialsSection' type as ones of the other types. It means that each visitor who viewed feedback section then did one of the following manipulations: 'click on about page',\n",
    "       'page closed', 'click on purchase button', 'click on register button'."
   ]
  },
  {
   "cell_type": "markdown",
   "metadata": {},
   "source": [
    "Now let's move to a bit more comfortable representation of the data."
   ]
  },
  {
   "cell_type": "code",
   "execution_count": 14,
   "metadata": {},
   "outputs": [
    {
     "data": {
      "text/html": [
       "<div>\n",
       "<style scoped>\n",
       "    .dataframe tbody tr th:only-of-type {\n",
       "        vertical-align: middle;\n",
       "    }\n",
       "\n",
       "    .dataframe tbody tr th {\n",
       "        vertical-align: top;\n",
       "    }\n",
       "\n",
       "    .dataframe thead th {\n",
       "        text-align: right;\n",
       "    }\n",
       "</style>\n",
       "<table border=\"1\" class=\"dataframe\">\n",
       "  <thead>\n",
       "    <tr style=\"text-align: right;\">\n",
       "      <th></th>\n",
       "      <th>id</th>\n",
       "      <th>newVisitor</th>\n",
       "      <th>viewTestimonialsSection</th>\n",
       "      <th>clickOnAboutPage</th>\n",
       "      <th>pageClosed</th>\n",
       "      <th>clickOnPurchaseButton</th>\n",
       "      <th>clickOnRegisterButton</th>\n",
       "      <th>cards</th>\n",
       "    </tr>\n",
       "  </thead>\n",
       "  <tbody>\n",
       "    <tr>\n",
       "      <td>0</td>\n",
       "      <td>0</td>\n",
       "      <td>1</td>\n",
       "      <td>0</td>\n",
       "      <td>0</td>\n",
       "      <td>0</td>\n",
       "      <td>0</td>\n",
       "      <td>0</td>\n",
       "      <td>None</td>\n",
       "    </tr>\n",
       "    <tr>\n",
       "      <td>1</td>\n",
       "      <td>1</td>\n",
       "      <td>1</td>\n",
       "      <td>0</td>\n",
       "      <td>0</td>\n",
       "      <td>0</td>\n",
       "      <td>0</td>\n",
       "      <td>0</td>\n",
       "      <td>None</td>\n",
       "    </tr>\n",
       "    <tr>\n",
       "      <td>2</td>\n",
       "      <td>2</td>\n",
       "      <td>1</td>\n",
       "      <td>0</td>\n",
       "      <td>0</td>\n",
       "      <td>0</td>\n",
       "      <td>0</td>\n",
       "      <td>0</td>\n",
       "      <td>None</td>\n",
       "    </tr>\n",
       "    <tr>\n",
       "      <td>3</td>\n",
       "      <td>3</td>\n",
       "      <td>1</td>\n",
       "      <td>0</td>\n",
       "      <td>0</td>\n",
       "      <td>0</td>\n",
       "      <td>0</td>\n",
       "      <td>0</td>\n",
       "      <td>None</td>\n",
       "    </tr>\n",
       "    <tr>\n",
       "      <td>4</td>\n",
       "      <td>4</td>\n",
       "      <td>1</td>\n",
       "      <td>0</td>\n",
       "      <td>0</td>\n",
       "      <td>0</td>\n",
       "      <td>0</td>\n",
       "      <td>0</td>\n",
       "      <td>None</td>\n",
       "    </tr>\n",
       "    <tr>\n",
       "      <td>...</td>\n",
       "      <td>...</td>\n",
       "      <td>...</td>\n",
       "      <td>...</td>\n",
       "      <td>...</td>\n",
       "      <td>...</td>\n",
       "      <td>...</td>\n",
       "      <td>...</td>\n",
       "      <td>...</td>\n",
       "    </tr>\n",
       "    <tr>\n",
       "      <td>84737</td>\n",
       "      <td>84737</td>\n",
       "      <td>1</td>\n",
       "      <td>0</td>\n",
       "      <td>0</td>\n",
       "      <td>0</td>\n",
       "      <td>0</td>\n",
       "      <td>0</td>\n",
       "      <td>None</td>\n",
       "    </tr>\n",
       "    <tr>\n",
       "      <td>84738</td>\n",
       "      <td>84738</td>\n",
       "      <td>1</td>\n",
       "      <td>0</td>\n",
       "      <td>0</td>\n",
       "      <td>0</td>\n",
       "      <td>0</td>\n",
       "      <td>0</td>\n",
       "      <td>None</td>\n",
       "    </tr>\n",
       "    <tr>\n",
       "      <td>84739</td>\n",
       "      <td>84739</td>\n",
       "      <td>1</td>\n",
       "      <td>0</td>\n",
       "      <td>0</td>\n",
       "      <td>0</td>\n",
       "      <td>0</td>\n",
       "      <td>0</td>\n",
       "      <td>None</td>\n",
       "    </tr>\n",
       "    <tr>\n",
       "      <td>84740</td>\n",
       "      <td>84740</td>\n",
       "      <td>1</td>\n",
       "      <td>1</td>\n",
       "      <td>0</td>\n",
       "      <td>1</td>\n",
       "      <td>0</td>\n",
       "      <td>0</td>\n",
       "      <td>[92, 73, 24, 32, 55, 26, 68, 1, 1, 88]</td>\n",
       "    </tr>\n",
       "    <tr>\n",
       "      <td>84741</td>\n",
       "      <td>84741</td>\n",
       "      <td>1</td>\n",
       "      <td>0</td>\n",
       "      <td>0</td>\n",
       "      <td>0</td>\n",
       "      <td>0</td>\n",
       "      <td>0</td>\n",
       "      <td>None</td>\n",
       "    </tr>\n",
       "  </tbody>\n",
       "</table>\n",
       "<p>84742 rows × 8 columns</p>\n",
       "</div>"
      ],
      "text/plain": [
       "          id  newVisitor  viewTestimonialsSection  clickOnAboutPage  \\\n",
       "0          0           1                        0                 0   \n",
       "1          1           1                        0                 0   \n",
       "2          2           1                        0                 0   \n",
       "3          3           1                        0                 0   \n",
       "4          4           1                        0                 0   \n",
       "...      ...         ...                      ...               ...   \n",
       "84737  84737           1                        0                 0   \n",
       "84738  84738           1                        0                 0   \n",
       "84739  84739           1                        0                 0   \n",
       "84740  84740           1                        1                 0   \n",
       "84741  84741           1                        0                 0   \n",
       "\n",
       "       pageClosed  clickOnPurchaseButton  clickOnRegisterButton  \\\n",
       "0               0                      0                      0   \n",
       "1               0                      0                      0   \n",
       "2               0                      0                      0   \n",
       "3               0                      0                      0   \n",
       "4               0                      0                      0   \n",
       "...           ...                    ...                    ...   \n",
       "84737           0                      0                      0   \n",
       "84738           0                      0                      0   \n",
       "84739           0                      0                      0   \n",
       "84740           1                      0                      0   \n",
       "84741           0                      0                      0   \n",
       "\n",
       "                                        cards  \n",
       "0                                        None  \n",
       "1                                        None  \n",
       "2                                        None  \n",
       "3                                        None  \n",
       "4                                        None  \n",
       "...                                       ...  \n",
       "84737                                    None  \n",
       "84738                                    None  \n",
       "84739                                    None  \n",
       "84740  [92, 73, 24, 32, 55, 26, 68, 1, 1, 88]  \n",
       "84741                                    None  \n",
       "\n",
       "[84742 rows x 8 columns]"
      ]
     },
     "execution_count": 14,
     "metadata": {},
     "output_type": "execute_result"
    }
   ],
   "source": [
    "data = []\n",
    "for i in range(len(df['id'].unique())):\n",
    "    data.append({'id': i, 'newVisitor': 0, 'viewTestimonialsSection': 0, 'clickOnAboutPage': 0, 'pageClosed': 0,\n",
    "                'clickOnPurchaseButton': 0, 'clickOnRegisterButton': 0, \"cards\": None})\n",
    "\n",
    "for item in data:\n",
    "    df_temp = df[df['id']==item['id']]\n",
    "    for i in range(len(df_temp)):\n",
    "        if df_temp['id'].iloc[i] == item['id']:\n",
    "            item[df_temp['type'].iloc[i]] += 1\n",
    "        if type(df_temp['cards'].iloc[i]) == list:\n",
    "            item[\"cards\"] = df_temp['cards'].iloc[i]\n",
    "\n",
    "df_visitors = pd.DataFrame(data)\n",
    "df_visitors "
   ]
  },
  {
   "cell_type": "markdown",
   "metadata": {},
   "source": [
    "Let's visualize the data."
   ]
  },
  {
   "cell_type": "code",
   "execution_count": 20,
   "metadata": {},
   "outputs": [
    {
     "data": {
      "text/plain": [
       "newVisitor                 84742\n",
       "viewTestimonialsSection    33935\n",
       "clickOnAboutPage            7367\n",
       "pageClosed                  7540\n",
       "clickOnPurchaseButton       9481\n",
       "clickOnRegisterButton       9547\n",
       "dtype: int64"
      ]
     },
     "execution_count": 20,
     "metadata": {},
     "output_type": "execute_result"
    }
   ],
   "source": [
    "df_visitors.sum()[1:]"
   ]
  },
  {
   "cell_type": "code",
   "execution_count": 21,
   "metadata": {},
   "outputs": [
    {
     "data": {
      "text/plain": [
       "<BarContainer object of 6 artists>"
      ]
     },
     "execution_count": 21,
     "metadata": {},
     "output_type": "execute_result"
    },
    {
     "data": {
      "image/png": "[encoded data removed]",
      "text/plain": [
       "<Figure size 1200x640 with 1 Axes>"
      ]
     },
     "metadata": {},
     "output_type": "display_data"
    }
   ],
   "source": [
    "fig=plt.figure(figsize=(15, 8), dpi= 80, facecolor='w', edgecolor='k')\n",
    "plt.bar(df_visitors.columns[1:-1], df_visitors.sum()[1:].to_list())"
   ]
  },
  {
   "cell_type": "code",
   "execution_count": 22,
   "metadata": {},
   "outputs": [
    {
     "data": {
      "text/plain": [
       "clickOnAboutPage         7367\n",
       "pageClosed               7540\n",
       "clickOnPurchaseButton    9481\n",
       "clickOnRegisterButton    9547\n",
       "dtype: object"
      ]
     },
     "execution_count": 22,
     "metadata": {},
     "output_type": "execute_result"
    }
   ],
   "source": [
    "df_visitors[df_visitors['viewTestimonialsSection']==1].sum()[3:-1]"
   ]
  },
  {
   "cell_type": "markdown",
   "metadata": {},
   "source": [
    "So, after viewing the feedback section one of the following actions was done."
   ]
  },
  {
   "cell_type": "code",
   "execution_count": 23,
   "metadata": {},
   "outputs": [
    {
     "data": {
      "text/plain": [
       "<matplotlib.legend.Legend at 0x22923ccbd08>"
      ]
     },
     "execution_count": 23,
     "metadata": {},
     "output_type": "execute_result"
    },
    {
     "data": {
      "image/png": "[encoded data removed]",
      "text/plain": [
       "<Figure size 432x288 with 1 Axes>"
      ]
     },
     "metadata": {},
     "output_type": "display_data"
    }
   ],
   "source": [
    "plt.pie(df_visitors.sum()[3:].to_list(), labels=df_visitors.columns[3:-1], autopct='%1.2f%%')\n",
    "plt.legend(loc='center left', bbox_to_anchor=(1.0, 1.0))"
   ]
  },
  {
   "cell_type": "markdown",
   "metadata": {},
   "source": [
    "Probably it is worth to explore view cards of those visitors who did some purchases."
   ]
  },
  {
   "cell_type": "code",
   "execution_count": 26,
   "metadata": {},
   "outputs": [
    {
     "data": {
      "text/plain": [
       "(array([1000.,  815., 1028.,  998.,  955.,  961.,  922.,  838., 1010.,\n",
       "         963., 1005.,  981.,    0.,  970., 1044.,  964.,  956., 1087.,\n",
       "         857.,  943.,  993., 1027.,  911.,  993., 1011.,  981.,  899.,\n",
       "         955.,  970.,  880., 1020.,  936., 1012., 1021.,  985.,  934.,\n",
       "         996.,  870.,  958., 1018.,  989.,  975.,  959.,  965., 1015.,\n",
       "         971.,  873.,  927.,  960.,  734.,  968.,  935.,  945.,  961.,\n",
       "         905.,  947.,  951., 1025.,  926., 1033.,  972., 1005.,  980.,\n",
       "        1031.,  730.,  946.,  950., 1030.,  935.,  966.,  972.,  934.,\n",
       "        1014.,  895.,  799.,  976.,  947., 1007., 1073.,  477., 1035.,\n",
       "         989.,  924., 1005., 1009.,  890., 1030.,  844.,  974., 1007.,\n",
       "         931., 1007.,  896., 1027., 1009., 1025., 1027., 1007.,  951.,\n",
       "         953.]),\n",
       " array([ 0.  ,  0.99,  1.98,  2.97,  3.96,  4.95,  5.94,  6.93,  7.92,\n",
       "         8.91,  9.9 , 10.89, 11.88, 12.87, 13.86, 14.85, 15.84, 16.83,\n",
       "        17.82, 18.81, 19.8 , 20.79, 21.78, 22.77, 23.76, 24.75, 25.74,\n",
       "        26.73, 27.72, 28.71, 29.7 , 30.69, 31.68, 32.67, 33.66, 34.65,\n",
       "        35.64, 36.63, 37.62, 38.61, 39.6 , 40.59, 41.58, 42.57, 43.56,\n",
       "        44.55, 45.54, 46.53, 47.52, 48.51, 49.5 , 50.49, 51.48, 52.47,\n",
       "        53.46, 54.45, 55.44, 56.43, 57.42, 58.41, 59.4 , 60.39, 61.38,\n",
       "        62.37, 63.36, 64.35, 65.34, 66.33, 67.32, 68.31, 69.3 , 70.29,\n",
       "        71.28, 72.27, 73.26, 74.25, 75.24, 76.23, 77.22, 78.21, 79.2 ,\n",
       "        80.19, 81.18, 82.17, 83.16, 84.15, 85.14, 86.13, 87.12, 88.11,\n",
       "        89.1 , 90.09, 91.08, 92.07, 93.06, 94.05, 95.04, 96.03, 97.02,\n",
       "        98.01, 99.  ]),\n",
       " <a list of 100 Patch objects>)"
      ]
     },
     "execution_count": 26,
     "metadata": {},
     "output_type": "execute_result"
    },
    {
     "data": {
      "image/png": "[encoded data removed]",
      "text/plain": [
       "<Figure size 432x288 with 1 Axes>"
      ]
     },
     "metadata": {
      "needs_background": "light"
     },
     "output_type": "display_data"
    }
   ],
   "source": [
    "plt.hist(df_visitors[df_visitors['clickOnPurchaseButton']==1].sum()[-1],bins=100)"
   ]
  },
  {
   "cell_type": "markdown",
   "metadata": {},
   "source": [
    "or did no purchase."
   ]
  },
  {
   "cell_type": "code",
   "execution_count": 27,
   "metadata": {},
   "outputs": [
    {
     "data": {
      "text/plain": [
       "(array([2354., 2586., 2406., 2520., 2479., 2445., 2366., 2535., 2393.,\n",
       "        2315., 2388., 2476., 3354., 2383., 2412., 2349., 2464., 2387.,\n",
       "        2607., 2455., 2404., 2422., 2414., 2356., 2389., 2436., 2582.,\n",
       "        2373., 2437., 2466., 2414., 2400., 2468., 2372., 2417., 2454.,\n",
       "        2380., 2525., 2430., 2358., 2404., 2336., 2471., 2448., 2332.,\n",
       "        2454., 2439., 2466., 2406., 2535., 2441., 2390., 2388., 2349.,\n",
       "        2538., 2445., 2394., 2392., 2441., 2443., 2364., 2401., 2342.,\n",
       "        2410., 2591., 2336., 2527., 2440., 2481., 2363., 2352., 2517.,\n",
       "        2455., 2506., 2587., 2387., 2433., 2413., 2390., 2912., 2329.,\n",
       "        2432., 2469., 2459., 2394., 2420., 2425., 2478., 2559., 2395.,\n",
       "        2441., 2459., 2598., 2296., 2400., 2434., 2439., 2364., 2415.,\n",
       "        2444.]),\n",
       " array([ 0.  ,  0.99,  1.98,  2.97,  3.96,  4.95,  5.94,  6.93,  7.92,\n",
       "         8.91,  9.9 , 10.89, 11.88, 12.87, 13.86, 14.85, 15.84, 16.83,\n",
       "        17.82, 18.81, 19.8 , 20.79, 21.78, 22.77, 23.76, 24.75, 25.74,\n",
       "        26.73, 27.72, 28.71, 29.7 , 30.69, 31.68, 32.67, 33.66, 34.65,\n",
       "        35.64, 36.63, 37.62, 38.61, 39.6 , 40.59, 41.58, 42.57, 43.56,\n",
       "        44.55, 45.54, 46.53, 47.52, 48.51, 49.5 , 50.49, 51.48, 52.47,\n",
       "        53.46, 54.45, 55.44, 56.43, 57.42, 58.41, 59.4 , 60.39, 61.38,\n",
       "        62.37, 63.36, 64.35, 65.34, 66.33, 67.32, 68.31, 69.3 , 70.29,\n",
       "        71.28, 72.27, 73.26, 74.25, 75.24, 76.23, 77.22, 78.21, 79.2 ,\n",
       "        80.19, 81.18, 82.17, 83.16, 84.15, 85.14, 86.13, 87.12, 88.11,\n",
       "        89.1 , 90.09, 91.08, 92.07, 93.06, 94.05, 95.04, 96.03, 97.02,\n",
       "        98.01, 99.  ]),\n",
       " <a list of 100 Patch objects>)"
      ]
     },
     "execution_count": 27,
     "metadata": {},
     "output_type": "execute_result"
    },
    {
     "data": {
      "image/png": "[encoded data removed]",
      "text/plain": [
       "<Figure size 432x288 with 1 Axes>"
      ]
     },
     "metadata": {
      "needs_background": "light"
     },
     "output_type": "display_data"
    }
   ],
   "source": [
    "plt.hist(df_visitors[(df_visitors['viewTestimonialsSection']==1) & (df_visitors['clickOnPurchaseButton']!=1)].sum()[-1],bins=100)"
   ]
  },
  {
   "cell_type": "code",
   "execution_count": 28,
   "metadata": {},
   "outputs": [
    {
     "data": {
      "text/plain": [
       "(array([3354., 3401., 3434., 3518., 3434., 3406., 3288., 3373., 3403.,\n",
       "        3278., 3393., 3457., 3354., 3353., 3456., 3313., 3420., 3474.,\n",
       "        3464., 3398., 3397., 3449., 3325., 3349., 3400., 3417., 3481.,\n",
       "        3328., 3407., 3346., 3434., 3336., 3480., 3393., 3402., 3388.,\n",
       "        3376., 3395., 3388., 3376., 3393., 3311., 3430., 3413., 3347.,\n",
       "        3425., 3312., 3393., 3366., 3269., 3409., 3325., 3333., 3310.,\n",
       "        3443., 3392., 3345., 3417., 3367., 3476., 3336., 3406., 3322.,\n",
       "        3441., 3321., 3282., 3477., 3470., 3416., 3329., 3324., 3451.,\n",
       "        3469., 3401., 3386., 3363., 3380., 3420., 3463., 3389., 3364.,\n",
       "        3421., 3393., 3464., 3403., 3310., 3455., 3322., 3533., 3402.,\n",
       "        3372., 3466., 3494., 3323., 3409., 3459., 3466., 3371., 3366.,\n",
       "        3397.]),\n",
       " array([ 0.  ,  0.99,  1.98,  2.97,  3.96,  4.95,  5.94,  6.93,  7.92,\n",
       "         8.91,  9.9 , 10.89, 11.88, 12.87, 13.86, 14.85, 15.84, 16.83,\n",
       "        17.82, 18.81, 19.8 , 20.79, 21.78, 22.77, 23.76, 24.75, 25.74,\n",
       "        26.73, 27.72, 28.71, 29.7 , 30.69, 31.68, 32.67, 33.66, 34.65,\n",
       "        35.64, 36.63, 37.62, 38.61, 39.6 , 40.59, 41.58, 42.57, 43.56,\n",
       "        44.55, 45.54, 46.53, 47.52, 48.51, 49.5 , 50.49, 51.48, 52.47,\n",
       "        53.46, 54.45, 55.44, 56.43, 57.42, 58.41, 59.4 , 60.39, 61.38,\n",
       "        62.37, 63.36, 64.35, 65.34, 66.33, 67.32, 68.31, 69.3 , 70.29,\n",
       "        71.28, 72.27, 73.26, 74.25, 75.24, 76.23, 77.22, 78.21, 79.2 ,\n",
       "        80.19, 81.18, 82.17, 83.16, 84.15, 85.14, 86.13, 87.12, 88.11,\n",
       "        89.1 , 90.09, 91.08, 92.07, 93.06, 94.05, 95.04, 96.03, 97.02,\n",
       "        98.01, 99.  ]),\n",
       " <a list of 100 Patch objects>)"
      ]
     },
     "execution_count": 28,
     "metadata": {},
     "output_type": "execute_result"
    },
    {
     "data": {
      "image/png": "[encoded data removed]",
      "text/plain": [
       "<Figure size 432x288 with 1 Axes>"
      ]
     },
     "metadata": {
      "needs_background": "light"
     },
     "output_type": "display_data"
    }
   ],
   "source": [
    "#fig=plt.figure(figsize=(15, 8), dpi= 80, facecolor='w', edgecolor='k')\n",
    "plt.hist(df_visitors[df_visitors['viewTestimonialsSection']==1].sum()[-1],bins=100)"
   ]
  },
  {
   "cell_type": "code",
   "execution_count": 29,
   "metadata": {},
   "outputs": [
    {
     "data": {
      "text/plain": [
       "339350"
      ]
     },
     "execution_count": 29,
     "metadata": {},
     "output_type": "execute_result"
    }
   ],
   "source": [
    "len(df_visitors[df_visitors['viewTestimonialsSection']==1].sum()[-1])"
   ]
  },
  {
   "cell_type": "code",
   "execution_count": 30,
   "metadata": {},
   "outputs": [
    {
     "data": {
      "text/plain": [
       "(array([ 666.,  879.,  682.,  722.,  760.,  724.,  692.,  828.,  738.,\n",
       "         721.,  675.,  703., 1682.,  723.,  720.,  657.,  716.,  700.,\n",
       "         870.,  771.,  667.,  655.,  747.,  646.,  722.,  679.,  798.,\n",
       "         692.,  754.,  776.,  698.,  702.,  720.,  705.,  726.,  710.,\n",
       "         654.,  793.,  737.,  646.,  695.,  666.,  715.,  688.,  731.,\n",
       "         737.,  782.,  723.,  693.,  864.,  665.,  710.,  742.,  716.,\n",
       "         778.,  792.,  719.,  695.,  719.,  704.,  676.,  682.,  673.,\n",
       "         709.,  891.,  653.,  772.,  702.,  749.,  681.,  706.,  696.,\n",
       "         692.,  742.,  826.,  692.,  779.,  667.,  667., 1221.,  653.,\n",
       "         669.,  806.,  710.,  716.,  766.,  709.,  782.,  782.,  680.,\n",
       "         729.,  703.,  832.,  638.,  681.,  689.,  680.,  704.,  744.,\n",
       "         731.]),\n",
       " array([ 0.  ,  0.99,  1.98,  2.97,  3.96,  4.95,  5.94,  6.93,  7.92,\n",
       "         8.91,  9.9 , 10.89, 11.88, 12.87, 13.86, 14.85, 15.84, 16.83,\n",
       "        17.82, 18.81, 19.8 , 20.79, 21.78, 22.77, 23.76, 24.75, 25.74,\n",
       "        26.73, 27.72, 28.71, 29.7 , 30.69, 31.68, 32.67, 33.66, 34.65,\n",
       "        35.64, 36.63, 37.62, 38.61, 39.6 , 40.59, 41.58, 42.57, 43.56,\n",
       "        44.55, 45.54, 46.53, 47.52, 48.51, 49.5 , 50.49, 51.48, 52.47,\n",
       "        53.46, 54.45, 55.44, 56.43, 57.42, 58.41, 59.4 , 60.39, 61.38,\n",
       "        62.37, 63.36, 64.35, 65.34, 66.33, 67.32, 68.31, 69.3 , 70.29,\n",
       "        71.28, 72.27, 73.26, 74.25, 75.24, 76.23, 77.22, 78.21, 79.2 ,\n",
       "        80.19, 81.18, 82.17, 83.16, 84.15, 85.14, 86.13, 87.12, 88.11,\n",
       "        89.1 , 90.09, 91.08, 92.07, 93.06, 94.05, 95.04, 96.03, 97.02,\n",
       "        98.01, 99.  ]),\n",
       " <a list of 100 Patch objects>)"
      ]
     },
     "execution_count": 30,
     "metadata": {},
     "output_type": "execute_result"
    },
    {
     "data": {
      "image/png": "[encoded data removed]",
      "text/plain": [
       "<Figure size 432x288 with 1 Axes>"
      ]
     },
     "metadata": {
      "needs_background": "light"
     },
     "output_type": "display_data"
    }
   ],
   "source": [
    "plt.hist(df_visitors[df_visitors['clickOnAboutPage']==1].sum()[-1],bins=100)"
   ]
  },
  {
   "cell_type": "code",
   "execution_count": 31,
   "metadata": {},
   "outputs": [
    {
     "data": {
      "text/plain": [
       "(array([ 983.,  821., 1009., 1056., 1024., 1024., 1002.,  796.,  991.,\n",
       "         904.,  997., 1042.,    0.,  918.,  966.,  982.,  973., 1023.,\n",
       "         844.,  936.,  989., 1073.,  942.,  971.,  982., 1015.,  958.,\n",
       "         979.,  976.,  920.,  966., 1040., 1021., 1038.,  953.,  994.,\n",
       "         992.,  911.,  983., 1011., 1013.,  982.,  995., 1000.,  902.,\n",
       "        1002.,  909.,  974.,  987.,  725., 1000.,  968.,  952.,  949.,\n",
       "         973.,  890.,  932.,  997.,  981., 1029.,  949.,  991.,  955.,\n",
       "        1022.,  747.,  993.,  982., 1038.,  950., 1000.,  937., 1036.,\n",
       "        1023.,  962.,  866.,  973.,  922., 1019., 1039.,  462.,  988.,\n",
       "        1029.,  876., 1030.,  998.,  904.,  995.,  867.,  948., 1021.,\n",
       "         977., 1012.,  863.,  978., 1038., 1002., 1029.,  980.,  950.,\n",
       "         954.]),\n",
       " array([ 0.  ,  0.99,  1.98,  2.97,  3.96,  4.95,  5.94,  6.93,  7.92,\n",
       "         8.91,  9.9 , 10.89, 11.88, 12.87, 13.86, 14.85, 15.84, 16.83,\n",
       "        17.82, 18.81, 19.8 , 20.79, 21.78, 22.77, 23.76, 24.75, 25.74,\n",
       "        26.73, 27.72, 28.71, 29.7 , 30.69, 31.68, 32.67, 33.66, 34.65,\n",
       "        35.64, 36.63, 37.62, 38.61, 39.6 , 40.59, 41.58, 42.57, 43.56,\n",
       "        44.55, 45.54, 46.53, 47.52, 48.51, 49.5 , 50.49, 51.48, 52.47,\n",
       "        53.46, 54.45, 55.44, 56.43, 57.42, 58.41, 59.4 , 60.39, 61.38,\n",
       "        62.37, 63.36, 64.35, 65.34, 66.33, 67.32, 68.31, 69.3 , 70.29,\n",
       "        71.28, 72.27, 73.26, 74.25, 75.24, 76.23, 77.22, 78.21, 79.2 ,\n",
       "        80.19, 81.18, 82.17, 83.16, 84.15, 85.14, 86.13, 87.12, 88.11,\n",
       "        89.1 , 90.09, 91.08, 92.07, 93.06, 94.05, 95.04, 96.03, 97.02,\n",
       "        98.01, 99.  ]),\n",
       " <a list of 100 Patch objects>)"
      ]
     },
     "execution_count": 31,
     "metadata": {},
     "output_type": "execute_result"
    },
    {
     "data": {
      "image/png": "[encoded data removed]",
      "text/plain": [
       "<Figure size 432x288 with 1 Axes>"
      ]
     },
     "metadata": {
      "needs_background": "light"
     },
     "output_type": "display_data"
    }
   ],
   "source": [
    "plt.hist(df_visitors[df_visitors['clickOnRegisterButton']==1].sum()[-1],bins=100)"
   ]
  },
  {
   "cell_type": "code",
   "execution_count": 32,
   "metadata": {},
   "outputs": [
    {
     "data": {
      "text/plain": [
       "(array([ 666.,  879.,  682.,  722.,  760.,  724.,  692.,  828.,  738.,\n",
       "         721.,  675.,  703., 1682.,  723.,  720.,  657.,  716.,  700.,\n",
       "         870.,  771.,  667.,  655.,  747.,  646.,  722.,  679.,  798.,\n",
       "         692.,  754.,  776.,  698.,  702.,  720.,  705.,  726.,  710.,\n",
       "         654.,  793.,  737.,  646.,  695.,  666.,  715.,  688.,  731.,\n",
       "         737.,  782.,  723.,  693.,  864.,  665.,  710.,  742.,  716.,\n",
       "         778.,  792.,  719.,  695.,  719.,  704.,  676.,  682.,  673.,\n",
       "         709.,  891.,  653.,  772.,  702.,  749.,  681.,  706.,  696.,\n",
       "         692.,  742.,  826.,  692.,  779.,  667.,  667., 1221.,  653.,\n",
       "         669.,  806.,  710.,  716.,  766.,  709.,  782.,  782.,  680.,\n",
       "         729.,  703.,  832.,  638.,  681.,  689.,  680.,  704.,  744.,\n",
       "         731.]),\n",
       " array([ 0.  ,  0.99,  1.98,  2.97,  3.96,  4.95,  5.94,  6.93,  7.92,\n",
       "         8.91,  9.9 , 10.89, 11.88, 12.87, 13.86, 14.85, 15.84, 16.83,\n",
       "        17.82, 18.81, 19.8 , 20.79, 21.78, 22.77, 23.76, 24.75, 25.74,\n",
       "        26.73, 27.72, 28.71, 29.7 , 30.69, 31.68, 32.67, 33.66, 34.65,\n",
       "        35.64, 36.63, 37.62, 38.61, 39.6 , 40.59, 41.58, 42.57, 43.56,\n",
       "        44.55, 45.54, 46.53, 47.52, 48.51, 49.5 , 50.49, 51.48, 52.47,\n",
       "        53.46, 54.45, 55.44, 56.43, 57.42, 58.41, 59.4 , 60.39, 61.38,\n",
       "        62.37, 63.36, 64.35, 65.34, 66.33, 67.32, 68.31, 69.3 , 70.29,\n",
       "        71.28, 72.27, 73.26, 74.25, 75.24, 76.23, 77.22, 78.21, 79.2 ,\n",
       "        80.19, 81.18, 82.17, 83.16, 84.15, 85.14, 86.13, 87.12, 88.11,\n",
       "        89.1 , 90.09, 91.08, 92.07, 93.06, 94.05, 95.04, 96.03, 97.02,\n",
       "        98.01, 99.  ]),\n",
       " <a list of 100 Patch objects>)"
      ]
     },
     "execution_count": 32,
     "metadata": {},
     "output_type": "execute_result"
    },
    {
     "data": {
      "image/png": "[encoded data removed]",
      "text/plain": [
       "<Figure size 432x288 with 1 Axes>"
      ]
     },
     "metadata": {
      "needs_background": "light"
     },
     "output_type": "display_data"
    }
   ],
   "source": [
    "plt.hist(df_visitors[df_visitors['clickOnAboutPage']==1].sum()[-1],bins=100)"
   ]
  },
  {
   "cell_type": "code",
   "execution_count": 33,
   "metadata": {},
   "outputs": [
    {
     "name": "stdout",
     "output_type": "stream",
     "text": [
      "0 --> [0, 35, 41, 87, 76, 0, 39, 53, 0, 0]\n",
      "29 --> [29, 44, 29, 29, 29, 77, 25, 59, 10, 23]\n",
      "48 --> [68, 42, 23, 29, 48, 69, 48, 48, 48, 45]\n",
      "56 --> [29, 65, 56, 72, 56, 56, 16, 41, 56, 93]\n",
      "68 --> [97, 68, 55, 1, 68, 16, 63, 69, 68, 68]\n",
      "95 --> [95, 95, 94, 63, 15, 17, 95, 18, 93, 95]\n"
     ]
    },
    {
     "data": {
      "text/plain": [
       "6"
      ]
     },
     "execution_count": 33,
     "metadata": {},
     "output_type": "execute_result"
    }
   ],
   "source": [
    "lst = []\n",
    "for i in range(100):\n",
    "    for item in df_visitors[df_visitors['viewTestimonialsSection']==1]['cards'].to_list():\n",
    "        if item.count(i) == 4:\n",
    "            lst.append(i)\n",
    "            print(\"{} --> {}\".format(i, item))\n",
    "            \n",
    "len(set(lst))"
   ]
  },
  {
   "cell_type": "code",
   "execution_count": null,
   "metadata": {},
   "outputs": [],
   "source": []
  },
  {
   "cell_type": "markdown",
   "metadata": {},
   "source": [
    "#### Conclusions:"
   ]
  },
  {
   "cell_type": "markdown",
   "metadata": {},
   "source": [
    "JSON-file contains 152612 records of the visitors. There are 84742 visitors in general. At first, every visitor have done the first visit to the site. Only 33935 visitors did some more actions on the site. Each of these 33935 visitors viewed feedback section of the site. Then each of them did one of four operations: 'click on about page', 'page closed', 'click on purchase button', 'click on register button'. From the business point of view those visitors are the most important, who did a purchase. There are 9481 such visitors. What comes to feedback cards, here attention should be paid to the card with number 12, since everyone, who did purchases, didn't see this card, and everyone, who saw this card didn't do any purchase. Another fact worth mentioning is that users recieved a card with number 99 suspectfully often."
   ]
  },
  {
   "cell_type": "code",
   "execution_count": null,
   "metadata": {},
   "outputs": [],
   "source": []
  }
 ],
 "metadata": {
  "kernelspec": {
   "display_name": "Python 3",
   "language": "python",
   "name": "python3"
  },
  "language_info": {
   "codemirror_mode": {
    "name": "ipython",
    "version": 3
   },
   "file_extension": ".py",
   "mimetype": "text/x-python",
   "name": "python",
   "nbconvert_exporter": "python",
   "pygments_lexer": "ipython3",
   "version": "3.7.4"
  }
 },
 "nbformat": 4,
 "nbformat_minor": 2
}
