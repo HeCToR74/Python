{
 "cells": [
  {
   "cell_type": "code",
   "execution_count": 1,
   "metadata": {},
   "outputs": [],
   "source": [
    "import requests\n",
    "import pandas as pd\n",
    "import matplotlib.pyplot as plt\n",
    "import moviepy.editor as mpy\n",
    "from bs4 import BeautifulSoup"
   ]
  },
  {
   "cell_type": "code",
   "execution_count": 2,
   "metadata": {},
   "outputs": [],
   "source": [
    "def func(lst, str2):\n",
    "    k = False\n",
    "    for i in range(len(str2)):\n",
    "        if str2[i].isalpha():\n",
    "            k = i\n",
    "        else:\n",
    "            break\n",
    "    if k:\n",
    "        lst.append(str2[:k+1])         \n",
    "        str2 = str2[k+1:]\n",
    "    return lst, str2"
   ]
  },
  {
   "cell_type": "code",
   "execution_count": 3,
   "metadata": {},
   "outputs": [
    {
     "data": {
      "text/plain": [
       "(['Royal', 'Dutch', 'Shell'], '175,986.1')"
      ]
     },
     "execution_count": 3,
     "metadata": {},
     "output_type": "execute_result"
    }
   ],
   "source": [
    "str1 = ['Royal', 'Dutch']\n",
    "str2 = 'Shell175,986.1'\n",
    "func(str1, str2)"
   ]
  },
  {
   "cell_type": "code",
   "execution_count": 4,
   "metadata": {},
   "outputs": [],
   "source": [
    "url = 'https://en.wikipedia.org/wiki/List_of_public_corporations_by_market_capitalization'\n",
    "page = requests.get(url)\n",
    "soup = BeautifulSoup(page.text, 'html.parser')"
   ]
  },
  {
   "cell_type": "code",
   "execution_count": 5,
   "metadata": {},
   "outputs": [],
   "source": [
    "tables = soup.find_all('table', class_=\"wikitable\")\n",
    "tables = tables[1:-2]"
   ]
  },
  {
   "cell_type": "code",
   "execution_count": 6,
   "metadata": {},
   "outputs": [],
   "source": [
    "df = pd.DataFrame(columns=[\"Year\", \"Name\", \"Capitalisation\"])"
   ]
  },
  {
   "cell_type": "code",
   "execution_count": 7,
   "metadata": {
    "scrolled": true
   },
   "outputs": [],
   "source": [
    "year = 2021\n",
    "for table in tables[:15]:\n",
    "    year -= 1\n",
    "    for tr in table.find_all('tr')[1:]:\n",
    "        td = tr.find_all('td')[6]\n",
    "        td = td.text.split('[')[0]\n",
    "        td = td.split()\n",
    "        name, capital = func(td[:-1], td[-1])\n",
    "        df = df.append({\"Year\": year, \"Name\": name[0], \"Capitalisation\": float(capital.replace(\",\", \"\"))}, \n",
    "                       ignore_index=True)\n",
    "        "
   ]
  },
  {
   "cell_type": "code",
   "execution_count": 8,
   "metadata": {},
   "outputs": [],
   "source": [
    "year = 2005\n",
    "for table in tables[15:]:\n",
    "    year -= 1\n",
    "    for tr in table.find_all('tr')[1:]:\n",
    "        name = tr.find_all('td')[1].text\n",
    "        capital = tr.find_all('td')[4].text\n",
    "        df = df.append({\"Year\": year, \"Name\": name, \"Capitalisation\": float(capital.replace(\",\", \"\"))}, \n",
    "                       ignore_index=True)"
   ]
  },
  {
   "cell_type": "code",
   "execution_count": 9,
   "metadata": {},
   "outputs": [
    {
     "data": {
      "text/html": [
       "<div>\n",
       "<style scoped>\n",
       "    .dataframe tbody tr th:only-of-type {\n",
       "        vertical-align: middle;\n",
       "    }\n",
       "\n",
       "    .dataframe tbody tr th {\n",
       "        vertical-align: top;\n",
       "    }\n",
       "\n",
       "    .dataframe thead th {\n",
       "        text-align: right;\n",
       "    }\n",
       "</style>\n",
       "<table border=\"1\" class=\"dataframe\">\n",
       "  <thead>\n",
       "    <tr style=\"text-align: right;\">\n",
       "      <th></th>\n",
       "      <th>Year</th>\n",
       "      <th>Name</th>\n",
       "      <th>Capitalisation</th>\n",
       "    </tr>\n",
       "  </thead>\n",
       "  <tbody>\n",
       "    <tr>\n",
       "      <td>0</td>\n",
       "      <td>2020</td>\n",
       "      <td>Apple</td>\n",
       "      <td>1981000.0</td>\n",
       "    </tr>\n",
       "    <tr>\n",
       "      <td>1</td>\n",
       "      <td>2020</td>\n",
       "      <td>Microsoft</td>\n",
       "      <td>1592000.0</td>\n",
       "    </tr>\n",
       "    <tr>\n",
       "      <td>2</td>\n",
       "      <td>2020</td>\n",
       "      <td>Amazon.com</td>\n",
       "      <td>1577000.0</td>\n",
       "    </tr>\n",
       "    <tr>\n",
       "      <td>3</td>\n",
       "      <td>2020</td>\n",
       "      <td>Alphabet</td>\n",
       "      <td>999570.0</td>\n",
       "    </tr>\n",
       "    <tr>\n",
       "      <td>4</td>\n",
       "      <td>2020</td>\n",
       "      <td>Alibaba</td>\n",
       "      <td>795400.0</td>\n",
       "    </tr>\n",
       "    <tr>\n",
       "      <td>...</td>\n",
       "      <td>...</td>\n",
       "      <td>...</td>\n",
       "      <td>...</td>\n",
       "    </tr>\n",
       "    <tr>\n",
       "      <td>225</td>\n",
       "      <td>1997</td>\n",
       "      <td>Intel Corporation</td>\n",
       "      <td>150838.0</td>\n",
       "    </tr>\n",
       "    <tr>\n",
       "      <td>226</td>\n",
       "      <td>1997</td>\n",
       "      <td>Nippon Telegraph and Telephone</td>\n",
       "      <td>146139.0</td>\n",
       "    </tr>\n",
       "    <tr>\n",
       "      <td>227</td>\n",
       "      <td>1997</td>\n",
       "      <td>Merck</td>\n",
       "      <td>120757.0</td>\n",
       "    </tr>\n",
       "    <tr>\n",
       "      <td>228</td>\n",
       "      <td>1997</td>\n",
       "      <td>Toyota Motor Corporation</td>\n",
       "      <td>116585.0</td>\n",
       "    </tr>\n",
       "    <tr>\n",
       "      <td>229</td>\n",
       "      <td>1997</td>\n",
       "      <td>Novartis</td>\n",
       "      <td>104468.0</td>\n",
       "    </tr>\n",
       "  </tbody>\n",
       "</table>\n",
       "<p>230 rows × 3 columns</p>\n",
       "</div>"
      ],
      "text/plain": [
       "     Year                            Name  Capitalisation\n",
       "0    2020                           Apple       1981000.0\n",
       "1    2020                       Microsoft       1592000.0\n",
       "2    2020                      Amazon.com       1577000.0\n",
       "3    2020                        Alphabet        999570.0\n",
       "4    2020                         Alibaba        795400.0\n",
       "..    ...                             ...             ...\n",
       "225  1997               Intel Corporation        150838.0\n",
       "226  1997  Nippon Telegraph and Telephone        146139.0\n",
       "227  1997                           Merck        120757.0\n",
       "228  1997        Toyota Motor Corporation        116585.0\n",
       "229  1997                        Novartis        104468.0\n",
       "\n",
       "[230 rows x 3 columns]"
      ]
     },
     "execution_count": 9,
     "metadata": {},
     "output_type": "execute_result"
    }
   ],
   "source": [
    "df"
   ]
  },
  {
   "cell_type": "code",
   "execution_count": 10,
   "metadata": {},
   "outputs": [],
   "source": [
    "for year in range(1997, 2021):\n",
    "    if year != 2005:\n",
    "        df_year = df[df[\"Year\"]==year]\n",
    "        fig, ax = plt.subplots(figsize=(20, 15)) \n",
    "        ax.pie(df_year[\"Capitalisation\"], labels=df_year[\"Name\"], autopct='%0.f%%', \n",
    "                            shadow=True, startangle=0, pctdistance=0.90, textprops={'fontsize': 18})\n",
    "        circle = plt.Circle((0,0),0.70,fc='white') \n",
    "        donut = plt.gcf()\n",
    "        donut.gca().add_artist(circle)  \n",
    "        plt.title(\"The 10 largest public companies by market capitalisation: 1997-2020\",fontsize = 30)\n",
    "        ax.text(1.5, -1.3, \"{} year\".format(year), fontsize=40,\n",
    "            horizontalalignment=\"right\",\n",
    "            verticalalignment=\"bottom\")\n",
    "        plt.savefig(\"{}.png\".format(year))\n",
    "        plt.close()"
   ]
  },
  {
   "cell_type": "code",
   "execution_count": 11,
   "metadata": {},
   "outputs": [
    {
     "name": "stdout",
     "output_type": "stream",
     "text": [
      "MoviePy - Building file donut_chart.gif.gif with imageio.\n"
     ]
    },
    {
     "name": "stderr",
     "output_type": "stream",
     "text": [
      "                                                                                                                       \r"
     ]
    }
   ],
   "source": [
    "gif_name = 'donut_chart.gif'\n",
    "fps = 1\n",
    "file_list = [\"{}.png\".format(year) for year in range(1997, 2021) if year != 2005]\n",
    "clip = mpy.ImageSequenceClip(file_list, fps=fps)\n",
    "clip.write_gif('{}.gif'.format(gif_name), fps=fps)"
   ]
  },
  {
   "cell_type": "code",
   "execution_count": null,
   "metadata": {},
   "outputs": [],
   "source": []
  }
 ],
 "metadata": {
  "kernelspec": {
   "display_name": "Python 3",
   "language": "python",
   "name": "python3"
  },
  "language_info": {
   "codemirror_mode": {
    "name": "ipython",
    "version": 3
   },
   "file_extension": ".py",
   "mimetype": "text/x-python",
   "name": "python",
   "nbconvert_exporter": "python",
   "pygments_lexer": "ipython3",
   "version": "3.7.4"
  }
 },
 "nbformat": 4,
 "nbformat_minor": 2
}
