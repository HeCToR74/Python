{
 "cells": [
  {
   "cell_type": "code",
   "execution_count": 14,
   "metadata": {},
   "outputs": [],
   "source": [
    "import numpy as np\n",
    "import pandas as pd\n",
    "from matplotlib import pyplot as plt"
   ]
  },
  {
   "cell_type": "code",
   "execution_count": 22,
   "metadata": {},
   "outputs": [
    {
     "data": {
      "text/html": [
       "<div>\n",
       "<style scoped>\n",
       "    .dataframe tbody tr th:only-of-type {\n",
       "        vertical-align: middle;\n",
       "    }\n",
       "\n",
       "    .dataframe tbody tr th {\n",
       "        vertical-align: top;\n",
       "    }\n",
       "\n",
       "    .dataframe thead th {\n",
       "        text-align: right;\n",
       "    }\n",
       "</style>\n",
       "<table border=\"1\" class=\"dataframe\">\n",
       "  <thead>\n",
       "    <tr style=\"text-align: right;\">\n",
       "      <th></th>\n",
       "      <th>date</th>\n",
       "      <th>open</th>\n",
       "      <th>high</th>\n",
       "      <th>low</th>\n",
       "      <th>close</th>\n",
       "      <th>volume</th>\n",
       "    </tr>\n",
       "  </thead>\n",
       "  <tbody>\n",
       "    <tr>\n",
       "      <td>0</td>\n",
       "      <td>2000-01-03</td>\n",
       "      <td>107.404545</td>\n",
       "      <td>107.404545</td>\n",
       "      <td>104.234934</td>\n",
       "      <td>105.366938</td>\n",
       "      <td>8164300.0</td>\n",
       "    </tr>\n",
       "    <tr>\n",
       "      <td>1</td>\n",
       "      <td>2000-01-04</td>\n",
       "      <td>103.985859</td>\n",
       "      <td>104.370774</td>\n",
       "      <td>101.167180</td>\n",
       "      <td>101.246443</td>\n",
       "      <td>8089800.0</td>\n",
       "    </tr>\n",
       "    <tr>\n",
       "      <td>2</td>\n",
       "      <td>2000-01-05</td>\n",
       "      <td>101.382283</td>\n",
       "      <td>102.536894</td>\n",
       "      <td>99.435236</td>\n",
       "      <td>101.427563</td>\n",
       "      <td>12177900.0</td>\n",
       "    </tr>\n",
       "    <tr>\n",
       "      <td>3</td>\n",
       "      <td>2000-01-06</td>\n",
       "      <td>101.155883</td>\n",
       "      <td>102.514288</td>\n",
       "      <td>99.797478</td>\n",
       "      <td>99.797478</td>\n",
       "      <td>6227200.0</td>\n",
       "    </tr>\n",
       "    <tr>\n",
       "      <td>4</td>\n",
       "      <td>2000-01-07</td>\n",
       "      <td>101.653964</td>\n",
       "      <td>105.593338</td>\n",
       "      <td>101.472843</td>\n",
       "      <td>105.593338</td>\n",
       "      <td>8066500.0</td>\n",
       "    </tr>\n",
       "  </tbody>\n",
       "</table>\n",
       "</div>"
      ],
      "text/plain": [
       "         date        open        high         low       close      volume\n",
       "0  2000-01-03  107.404545  107.404545  104.234934  105.366938   8164300.0\n",
       "1  2000-01-04  103.985859  104.370774  101.167180  101.246443   8089800.0\n",
       "2  2000-01-05  101.382283  102.536894   99.435236  101.427563  12177900.0\n",
       "3  2000-01-06  101.155883  102.514288   99.797478   99.797478   6227200.0\n",
       "4  2000-01-07  101.653964  105.593338  101.472843  105.593338   8066500.0"
      ]
     },
     "execution_count": 22,
     "metadata": {},
     "output_type": "execute_result"
    }
   ],
   "source": [
    "df = pd.read_csv(\"SPY - SPY.csv\")\n",
    "df.head()"
   ]
  },
  {
   "cell_type": "code",
   "execution_count": 16,
   "metadata": {},
   "outputs": [],
   "source": [
    "curr = 0\n",
    "portfolio = 0\n",
    "df[\"equity\"] = 0\n",
    "for i in range(13, len(df)):\n",
    "    if portfolio == 0 and df[\"close\"].loc[i] > df[\"close\"].loc[i-13]:\n",
    "        df[\"equity\"].loc[i] = df[\"close\"].loc[i]\n",
    "        portfolio == 1\n",
    "        curr = df[\"close\"].loc[i] \n",
    "    elif portfolio == 1 and df[\"close\"].loc[i] < df[\"close\"].loc[i-13]:\n",
    "        df[\"equity\"].loc[i] = df[\"close\"].loc[i]\n",
    "        portfolio == 0\n",
    "        curr = 0 \n",
    "    else:\n",
    "        df[\"equity\"].loc[i] = curr\n",
    "\n",
    "        "
   ]
  },
  {
   "cell_type": "code",
   "execution_count": 17,
   "metadata": {},
   "outputs": [],
   "source": [
    "equity = pd.DataFrame({\"equity\": df[\"equity\"].values}, index=df[\"date\"])"
   ]
  },
  {
   "cell_type": "markdown",
   "metadata": {},
   "source": [
    "1. Постройте график кривой доходности такой торговой модели (equity curve) для имеющихся исторических даних. Какую конечную прибыль получил бы инвестор? "
   ]
  },
  {
   "cell_type": "code",
   "execution_count": 18,
   "metadata": {},
   "outputs": [
    {
     "data": {
      "image/png": "[encoded data removed]",
      "text/plain": [
       "<Figure size 432x288 with 1 Axes>"
      ]
     },
     "metadata": {
      "needs_background": "light"
     },
     "output_type": "display_data"
    }
   ],
   "source": [
    "equity.plot()\n",
    "plt.xticks(rotation=45)\n",
    "plt.title(\"Equity Curve\")\n",
    "plt.show()"
   ]
  },
  {
   "cell_type": "code",
   "execution_count": 24,
   "metadata": {},
   "outputs": [
    {
     "name": "stdout",
     "output_type": "stream",
     "text": [
      "Конечная прибыль: 132.353428\n"
     ]
    }
   ],
   "source": [
    "print(\"Конечная прибыль:\", round(sum(equity[\"equity\"][equity[\"equity\"]>0].diff()[1:]), 6))"
   ]
  },
  {
   "cell_type": "markdown",
   "metadata": {},
   "source": [
    "2. Оцените среднюю дневную доходность и дисперсию дневной доходности для такой модели."
   ]
  },
  {
   "cell_type": "code",
   "execution_count": 25,
   "metadata": {},
   "outputs": [
    {
     "name": "stdout",
     "output_type": "stream",
     "text": [
      "Средняя дневная доходность: 121.27264519113271\n",
      "Дисперсия дневной доходноти: 1941.9420951321\n"
     ]
    }
   ],
   "source": [
    "print(\"Средняя дневная доходность:\", equity[\"equity\"].mean())\n",
    "print(\"Дисперсия дневной доходноти:\", equity[\"equity\"].var())"
   ]
  },
  {
   "cell_type": "code",
   "execution_count": null,
   "metadata": {},
   "outputs": [],
   "source": []
  },
  {
   "cell_type": "code",
   "execution_count": null,
   "metadata": {},
   "outputs": [],
   "source": []
  },
  {
   "cell_type": "code",
   "execution_count": null,
   "metadata": {},
   "outputs": [],
   "source": []
  },
  {
   "cell_type": "code",
   "execution_count": null,
   "metadata": {},
   "outputs": [],
   "source": []
  },
  {
   "cell_type": "code",
   "execution_count": null,
   "metadata": {},
   "outputs": [],
   "source": []
  },
  {
   "cell_type": "code",
   "execution_count": null,
   "metadata": {},
   "outputs": [],
   "source": []
  },
  {
   "cell_type": "code",
   "execution_count": null,
   "metadata": {},
   "outputs": [],
   "source": []
  },
  {
   "cell_type": "code",
   "execution_count": null,
   "metadata": {},
   "outputs": [],
   "source": []
  },
  {
   "cell_type": "code",
   "execution_count": null,
   "metadata": {},
   "outputs": [],
   "source": []
  },
  {
   "cell_type": "code",
   "execution_count": null,
   "metadata": {},
   "outputs": [],
   "source": []
  },
  {
   "cell_type": "code",
   "execution_count": null,
   "metadata": {},
   "outputs": [],
   "source": []
  },
  {
   "cell_type": "code",
   "execution_count": null,
   "metadata": {},
   "outputs": [],
   "source": []
  }
 ],
 "metadata": {
  "kernelspec": {
   "display_name": "Python 3",
   "language": "python",
   "name": "python3"
  },
  "language_info": {
   "codemirror_mode": {
    "name": "ipython",
    "version": 3
   },
   "file_extension": ".py",
   "mimetype": "text/x-python",
   "name": "python",
   "nbconvert_exporter": "python",
   "pygments_lexer": "ipython3",
   "version": "3.7.4"
  }
 },
 "nbformat": 4,
 "nbformat_minor": 2
}
