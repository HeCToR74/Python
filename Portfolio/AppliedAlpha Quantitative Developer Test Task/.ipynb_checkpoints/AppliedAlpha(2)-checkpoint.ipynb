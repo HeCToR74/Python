{
 "cells": [
  {
   "cell_type": "code",
   "execution_count": 1,
   "metadata": {},
   "outputs": [],
   "source": [
    "import numpy as np\n",
    "import pandas as pd\n",
    "from matplotlib import pyplot as plt\n",
    "import scipy.stats as st\n",
    "from scipy import mean\n",
    "import datetime\n",
    "import warnings\n",
    "\n",
    "warnings.simplefilter(\"ignore\")"
   ]
  },
  {
   "cell_type": "code",
   "execution_count": 2,
   "metadata": {},
   "outputs": [
    {
     "data": {
      "text/html": [
       "<div>\n",
       "<style scoped>\n",
       "    .dataframe tbody tr th:only-of-type {\n",
       "        vertical-align: middle;\n",
       "    }\n",
       "\n",
       "    .dataframe tbody tr th {\n",
       "        vertical-align: top;\n",
       "    }\n",
       "\n",
       "    .dataframe thead th {\n",
       "        text-align: right;\n",
       "    }\n",
       "</style>\n",
       "<table border=\"1\" class=\"dataframe\">\n",
       "  <thead>\n",
       "    <tr style=\"text-align: right;\">\n",
       "      <th></th>\n",
       "      <th>date</th>\n",
       "      <th>open</th>\n",
       "      <th>high</th>\n",
       "      <th>low</th>\n",
       "      <th>close</th>\n",
       "      <th>volume</th>\n",
       "    </tr>\n",
       "  </thead>\n",
       "  <tbody>\n",
       "    <tr>\n",
       "      <td>0</td>\n",
       "      <td>2000-01-03</td>\n",
       "      <td>107.404545</td>\n",
       "      <td>107.404545</td>\n",
       "      <td>104.234934</td>\n",
       "      <td>105.366938</td>\n",
       "      <td>8164300.0</td>\n",
       "    </tr>\n",
       "    <tr>\n",
       "      <td>1</td>\n",
       "      <td>2000-01-04</td>\n",
       "      <td>103.985859</td>\n",
       "      <td>104.370774</td>\n",
       "      <td>101.167180</td>\n",
       "      <td>101.246443</td>\n",
       "      <td>8089800.0</td>\n",
       "    </tr>\n",
       "    <tr>\n",
       "      <td>2</td>\n",
       "      <td>2000-01-05</td>\n",
       "      <td>101.382283</td>\n",
       "      <td>102.536894</td>\n",
       "      <td>99.435236</td>\n",
       "      <td>101.427563</td>\n",
       "      <td>12177900.0</td>\n",
       "    </tr>\n",
       "    <tr>\n",
       "      <td>3</td>\n",
       "      <td>2000-01-06</td>\n",
       "      <td>101.155883</td>\n",
       "      <td>102.514288</td>\n",
       "      <td>99.797478</td>\n",
       "      <td>99.797478</td>\n",
       "      <td>6227200.0</td>\n",
       "    </tr>\n",
       "    <tr>\n",
       "      <td>4</td>\n",
       "      <td>2000-01-07</td>\n",
       "      <td>101.653964</td>\n",
       "      <td>105.593338</td>\n",
       "      <td>101.472843</td>\n",
       "      <td>105.593338</td>\n",
       "      <td>8066500.0</td>\n",
       "    </tr>\n",
       "  </tbody>\n",
       "</table>\n",
       "</div>"
      ],
      "text/plain": [
       "         date        open        high         low       close      volume\n",
       "0  2000-01-03  107.404545  107.404545  104.234934  105.366938   8164300.0\n",
       "1  2000-01-04  103.985859  104.370774  101.167180  101.246443   8089800.0\n",
       "2  2000-01-05  101.382283  102.536894   99.435236  101.427563  12177900.0\n",
       "3  2000-01-06  101.155883  102.514288   99.797478   99.797478   6227200.0\n",
       "4  2000-01-07  101.653964  105.593338  101.472843  105.593338   8066500.0"
      ]
     },
     "execution_count": 2,
     "metadata": {},
     "output_type": "execute_result"
    }
   ],
   "source": [
    "df = pd.read_csv(\"SPY - SPY.csv\")\n",
    "df.head()"
   ]
  },
  {
   "cell_type": "markdown",
   "metadata": {},
   "source": [
    "1. Постройте график кривой доходности такой торговой модели (equity curve) для имеющихся исторических даних. Какую конечную прибыль получил бы инвестор? "
   ]
  },
  {
   "cell_type": "code",
   "execution_count": 3,
   "metadata": {},
   "outputs": [],
   "source": [
    "purchase = 0\n",
    "selling = 0\n",
    "portfolio = 0\n",
    "value = 0\n",
    "df[\"equity\"] = 0\n",
    "for i in range(13, len(df)): \n",
    "    if portfolio == 0 and df[\"close\"].loc[i] > df[\"close\"].loc[i-13]:\n",
    "        portfolio = 1\n",
    "        purchase = df[\"close\"].loc[i] \n",
    "    elif portfolio == 1 and df[\"close\"].loc[i] < df[\"close\"].loc[i-13]:\n",
    "        portfolio == 0\n",
    "        selling = df[\"close\"].loc[i]\n",
    "        value = purchase - selling\n",
    "        df[\"equity\"].loc[i] = value   \n",
    "    else:\n",
    "        df[\"equity\"].loc[i] = value"
   ]
  },
  {
   "cell_type": "code",
   "execution_count": 4,
   "metadata": {},
   "outputs": [],
   "source": [
    "equity = pd.DataFrame({\"equity\": df[\"equity\"].values}, index=df[\"date\"])"
   ]
  },
  {
   "cell_type": "code",
   "execution_count": 5,
   "metadata": {},
   "outputs": [
    {
     "data": {
      "image/png": "[encoded data removed]",
      "text/plain": [
       "<Figure size 432x288 with 1 Axes>"
      ]
     },
     "metadata": {
      "needs_background": "light"
     },
     "output_type": "display_data"
    }
   ],
   "source": [
    "equity.plot()\n",
    "plt.xticks(rotation=45)\n",
    "plt.title(\"Equity Curve\")\n",
    "plt.show()"
   ]
  },
  {
   "cell_type": "code",
   "execution_count": 6,
   "metadata": {},
   "outputs": [
    {
     "name": "stdout",
     "output_type": "stream",
     "text": [
      "Конечная прибыль: -132.913425\n"
     ]
    }
   ],
   "source": [
    "print(\"Конечная прибыль:\", round(equity[\"equity\"].to_list()[-1], 6))"
   ]
  },
  {
   "cell_type": "markdown",
   "metadata": {},
   "source": [
    "2. Оцените среднюю дневную доходность и дисперсию дневной доходности для такой модели."
   ]
  },
  {
   "cell_type": "code",
   "execution_count": 7,
   "metadata": {},
   "outputs": [
    {
     "name": "stdout",
     "output_type": "stream",
     "text": [
      "Средняя дневная доходность: -15.919012454399283\n",
      "Дисперсия дневной доходноти: 1869.6228516444758\n"
     ]
    }
   ],
   "source": [
    "print(\"Средняя дневная доходность:\", equity[\"equity\"].mean())\n",
    "print(\"Дисперсия дневной доходноти:\", equity[\"equity\"].var())"
   ]
  },
  {
   "cell_type": "markdown",
   "metadata": {},
   "source": [
    "3. Попытайтесь проверить следующую гипотезу: некоторые дни недели наиболее предпочтительны для входа в позицию (приносит больше прибыли)"
   ]
  },
  {
   "cell_type": "code",
   "execution_count": 8,
   "metadata": {},
   "outputs": [],
   "source": [
    "df[\"day\"] = df[\"date\"].apply(lambda x: datetime.datetime.strptime(x, \"%Y-%m-%d\").strftime(\"%A\"))\n",
    "week = {}\n",
    "for key in set(df[\"day\"].values):    \n",
    "    week[key] = df[df[\"day\"] == key][\"close\"].values"
   ]
  },
  {
   "cell_type": "code",
   "execution_count": 9,
   "metadata": {},
   "outputs": [
    {
     "data": {
      "image/png": "[encoded data removed]",
      "text/plain": [
       "<Figure size 432x288 with 1 Axes>"
      ]
     },
     "metadata": {
      "needs_background": "light"
     },
     "output_type": "display_data"
    }
   ],
   "source": [
    "fig, ax = plt.subplots()\n",
    "ax.boxplot(week.values())\n",
    "ax.set_xticklabels(week.keys())\n",
    "plt.show()"
   ]
  },
  {
   "cell_type": "markdown",
   "metadata": {},
   "source": [
    "Судя по сюжету выше, то гипотеза не подтверждаеться. Но мы проведем еще одну проверку.\n",
    "\n",
    "Чтобы проверить эту гипотезу, мы посчитаем среднее значение цены акции на момент закрытия для каждого дня недели."
   ]
  },
  {
   "cell_type": "code",
   "execution_count": 10,
   "metadata": {},
   "outputs": [],
   "source": [
    "week_mean_exp = [df[\"close\"].sum()/len(df)] * 5 \n",
    "week_mean_obs = [mean(week[key]) for key in week]"
   ]
  },
  {
   "cell_type": "code",
   "execution_count": 11,
   "metadata": {},
   "outputs": [
    {
     "name": "stdout",
     "output_type": "stream",
     "text": [
      "Ожидаемые значения: [120.00965932621182, 120.00965932621182, 120.00965932621182, 120.00965932621182, 120.00965932621182]\n",
      "Наблюдаемые значения: [120.12963667274802, 120.0846582312849, 120.10000585313901, 119.91914024655964, 119.7966842741738]\n"
     ]
    }
   ],
   "source": [
    "print(\"Ожидаемые значения:\", week_mean_exp)\n",
    "print(\"Наблюдаемые значения:\", week_mean_obs)"
   ]
  },
  {
   "cell_type": "markdown",
   "metadata": {},
   "source": [
    "H0: (нулевая гипотеза) Переменная следует гипотетическому распределению.\n",
    "\n",
    "H1: (альтернативная гипотеза) Переменная не следует гипотетическому распределению."
   ]
  },
  {
   "cell_type": "code",
   "execution_count": 12,
   "metadata": {},
   "outputs": [
    {
     "data": {
      "text/plain": [
       "Power_divergenceResult(statistic=0.0006810616028943167, pvalue=0.9999999420325477)"
      ]
     },
     "execution_count": 12,
     "metadata": {},
     "output_type": "execute_result"
    }
   ],
   "source": [
    "st.chisquare(week_mean_obs, week_mean_exp)"
   ]
  },
  {
   "cell_type": "markdown",
   "metadata": {},
   "source": [
    "Поскольку значение p (0.999) не менее 0.05, мы не можем отвергнуть нулевую гипотезу. Это означает, что у нас нет достаточных доказательств, чтобы утверждать, что некоторые дни недели наиболее предпочтительны для входа в позицию."
   ]
  },
  {
   "cell_type": "markdown",
   "metadata": {},
   "source": [
    "4. Оцените продолжительность периода максимального убытка для даной торговой модели в днях"
   ]
  },
  {
   "cell_type": "code",
   "execution_count": 13,
   "metadata": {},
   "outputs": [
    {
     "name": "stdout",
     "output_type": "stream",
     "text": [
      "Продолжительность периода максимального убытка составляет 465\n"
     ]
    }
   ],
   "source": [
    "lesion = []\n",
    "flag = False\n",
    "temp = []\n",
    "for i in range(len(equity)):\n",
    "    if not flag and equity[\"equity\"].values[i] < 0:\n",
    "        flag = True\n",
    "    if flag and equity[\"equity\"].values[i] >= 0:\n",
    "        flag = False\n",
    "        lesion.append(temp)\n",
    "        temp = []\n",
    "    if flag:\n",
    "        temp.append(equity[\"equity\"].values[i])\n",
    "        \n",
    "print(\"Продолжительность периода максимального убытка составляет\", max([len(item) for item in lesion]))   "
   ]
  },
  {
   "cell_type": "markdown",
   "metadata": {},
   "source": [
    "5. Оцените максимальный убыток в USD, который принесла бы такая торговая модель."
   ]
  },
  {
   "cell_type": "code",
   "execution_count": 14,
   "metadata": {},
   "outputs": [
    {
     "name": "stdout",
     "output_type": "stream",
     "text": [
      "Максимальный убыток в USD -5627.928660999997\n"
     ]
    }
   ],
   "source": [
    "print(\"Максимальный убыток в USD\", min([sum(item) for item in lesion])) "
   ]
  },
  {
   "cell_type": "markdown",
   "metadata": {},
   "source": [
    "6. Как бы вы оценили минимальную сумму в USD, которую мог бы потерять инвестор с вероятностью 5% за 1 день?"
   ]
  },
  {
   "cell_type": "code",
   "execution_count": 15,
   "metadata": {},
   "outputs": [
    {
     "data": {
      "text/plain": [
       "(-15.960110597723592, -15.877914311074974)"
      ]
     },
     "execution_count": 15,
     "metadata": {},
     "output_type": "execute_result"
    }
   ],
   "source": [
    "st.t.interval(0.05, len(equity[\"equity\"])-1, loc=np.mean(equity[\"equity\"]), scale=st.sem(equity[\"equity\"]))"
   ]
  },
  {
   "cell_type": "markdown",
   "metadata": {},
   "source": [
    "Таким образом, минимальная сумму в USD, которую мог бы потерять инвестор с вероятностью 5% за 1 день, составляет $15.877914311074974"
   ]
  },
  {
   "cell_type": "code",
   "execution_count": null,
   "metadata": {},
   "outputs": [],
   "source": []
  }
 ],
 "metadata": {
  "kernelspec": {
   "display_name": "Python 3",
   "language": "python",
   "name": "python3"
  },
  "language_info": {
   "codemirror_mode": {
    "name": "ipython",
    "version": 3
   },
   "file_extension": ".py",
   "mimetype": "text/x-python",
   "name": "python",
   "nbconvert_exporter": "python",
   "pygments_lexer": "ipython3",
   "version": "3.7.4"
  }
 },
 "nbformat": 4,
 "nbformat_minor": 2
}
